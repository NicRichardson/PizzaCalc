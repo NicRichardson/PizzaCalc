{
 "cells": [
  {
   "cell_type": "code",
   "execution_count": 2,
   "metadata": {
    "collapsed": false
   },
   "outputs": [
    {
     "name": "stdout",
     "output_type": "stream",
     "text": [
      "Welcome to the Pizza Calculator\n",
      "Name?: nic \n",
      "Cost?: 50\n",
      "Cost?: 50\n",
      "input stringt\n",
      "t\n",
      "t\n",
      "Tip percentage (T) or Tip amount (A)?: T\n",
      "What amount would you want to tip?: 15\n"
     ]
    },
    {
     "data": {
      "text/plain": [
       "128.8"
      ]
     },
     "execution_count": 2,
     "metadata": {},
     "output_type": "execute_result"
    }
   ],
   "source": [
    "class Person(object):\n",
    "\n",
    "    moneyOwed = 0\n",
    "\n",
    "    def __init__(self):\n",
    "        self.name = self.getName()\n",
    "\n",
    "    def getName(self):\n",
    "        return input(\"Name?: \")\n",
    "        \n",
    "    def getcost(self):\n",
    "        while(True):\n",
    "            try:\n",
    "                cost = float(input(\"Cost?: \"))\n",
    "                break\n",
    "            except ValueError:\n",
    "                print (\"Please input a number: \")\n",
    "        return cost\n",
    "\n",
    "    def addPizza(self):\n",
    "        self.moneyOwed += self.getcost()\n",
    "        return self.moneyOwed\n",
    "\n",
    "\n",
    "def calcTotalCost(people, tax):\n",
    "    totalCost = 0\n",
    "    while(True):\n",
    "        try:\n",
    "            tipType = str(input(\"Tip percentage (T) or Tip amount (A)?: \"))\n",
    "            if(tipType.lower() != \"t\" and tipType.lower() != \"a\"):\n",
    "                int(\"This line forces an error\")\n",
    "            break\n",
    "        except ValueError:\n",
    "            print (\"Please input valid option\")\n",
    "\n",
    "    if(tipType.lower == \"t\"):\n",
    "        while(True):\n",
    "            try:\n",
    "                tip = float(input(\"What percentage do you want to tip?: \"))\n",
    "                break\n",
    "            except ValueError:\n",
    "                print(\"Please input a number\")\n",
    "    else: \n",
    "        while(True):\n",
    "            try:\n",
    "                tip = float(input(\"What amount would you want to tip?: \"))\n",
    "                break\n",
    "            except ValueError:\n",
    "                print(\"Please input a number: \")\n",
    "\n",
    "    if(tipType == \"t\"):\n",
    "        for person in people:\n",
    "            totalCost += person.moneyOwed\n",
    "        totalCost *= (1+(tip/100))\n",
    "\n",
    "    else:\n",
    "        for person in people:\n",
    "            totalCost += person.moneyOwed\n",
    "        totalCost += tip\n",
    "\n",
    "    totalCost *= (1+(tax/100))\n",
    "\n",
    "    return totalCost\n",
    "\n",
    "\n",
    "\n",
    "\n",
    "print(\"Welcome to the Pizza Calculator\")\n",
    "#OnePizzaPayer = input(\"Will one person be paying for the order? [Y/N]: \")\n",
    "nic = Person()\n",
    "nic.addPizza()\n",
    "nic.addPizza() \n",
    "inputStr = input(\"input string\")\n",
    "print(inputStr)\n",
    "inputStr = inputStr.lower()\n",
    "print(inputStr)\n",
    "\n",
    "list  = [nic]\n",
    "\n",
    "calcTotalCost(list, 12)\n",
    "\n",
    "\n"
   ]
  }
 ],
 "metadata": {
  "anaconda-cloud": {},
  "kernelspec": {
   "display_name": "Python [conda root]",
   "language": "python",
   "name": "conda-root-py"
  },
  "language_info": {
   "codemirror_mode": {
    "name": "ipython",
    "version": 3
   },
   "file_extension": ".py",
   "mimetype": "text/x-python",
   "name": "python",
   "nbconvert_exporter": "python",
   "pygments_lexer": "ipython3",
   "version": "3.5.2"
  }
 },
 "nbformat": 4,
 "nbformat_minor": 1
}
