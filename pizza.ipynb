{
 "cells": [
  {
   "cell_type": "code",
   "execution_count": 2,
   "metadata": {
    "collapsed": false
   },
   "outputs": [
    {
     "name": "stdout",
     "output_type": "stream",
     "text": [
      "Name?: nic\n",
      "Cost?: 65\n",
      "Cost?: 1\n"
     ]
    },
    {
     "data": {
      "text/plain": [
       "66.0"
      ]
     },
     "execution_count": 2,
     "metadata": {},
     "output_type": "execute_result"
    }
   ],
   "source": [
    "class Person(object):\n",
    "\n",
    "    moneyOwed = 0\n",
    "    \n",
    "    def getName(self):\n",
    "        return input(\"Name?: \")\n",
    "    \n",
    "    def __init__(self):\n",
    "        self.name = self.getName()\n",
    "\n",
    "    def getcost(self):\n",
    "        while(True):\n",
    "            try:\n",
    "                cost = float(input(\"Cost?: \"))\n",
    "                break\n",
    "            except ValueError:\n",
    "                print (\"Please input a numebr: \")\n",
    "        return cost\n",
    "\n",
    "    def addPizza(self):\n",
    "        self.moneyOwed += self.getcost()\n",
    "        return self.moneyOwed\n",
    "\n",
    "\n",
    "nic = Person() \n",
    "nic.addPizza()\n",
    "nic.addPizza()\n"
   ]
  }
 ],
 "metadata": {
  "anaconda-cloud": {},
  "kernelspec": {
   "display_name": "Python [conda root]",
   "language": "python",
   "name": "conda-root-py"
  },
  "language_info": {
   "codemirror_mode": {
    "name": "ipython",
    "version": 3
   },
   "file_extension": ".py",
   "mimetype": "text/x-python",
   "name": "python",
   "nbconvert_exporter": "python",
   "pygments_lexer": "ipython3",
   "version": "3.5.2"
  }
 },
 "nbformat": 4,
 "nbformat_minor": 1
}
